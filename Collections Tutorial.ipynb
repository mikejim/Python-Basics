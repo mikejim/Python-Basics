{
 "cells": [
  {
   "cell_type": "markdown",
   "metadata": {
    "id": "CGV9n_K5tvTk"
   },
   "source": [
    "## **Collections**\n",
    "Counter, namedtuple, OrderedDict, defaultdict, deque\n ",
   "### **Python Collections Module.** \n The collections module in Python provides specialized containers (different from general purpose built-in containers like dict, list, tuple and set). These specialized containers are designed to "
   ]
  },
  {
   "cell_type": "code",
   "execution_count": 14,
   "metadata": {
    "colab": {
     "base_uri": "https://localhost:8080/"
    },
    "executionInfo": {
     "elapsed": 239,
     "status": "ok",
     "timestamp": 1636562549129,
     "user": {
      "displayName": "Miguel Jimeno",
      "photoUrl": "https://lh3.googleusercontent.com/a-/AOh14Gh8NLv3pNs0YQ3u_eQkmrWM31oFxR8tIizpzPM1RFI=s64",
      "userId": "02153796761643611339"
     },
     "user_tz": 300
    },
    "id": "WzbN5paXttQU",
    "outputId": "d524ba8a-c74a-4c59-f891-9aaac829b8cc"
   },
   "outputs": [
    {
     "name": "stdout",
     "output_type": "stream",
     "text": [
      "Counter({'c': 7, 'b': 5, 'a': 4})\n",
      "dict_items([('a', 4), ('b', 5), ('c', 7)])\n",
      "dict_keys(['a', 'b', 'c'])\n",
      "[('c', 7)]\n",
      "('c', 7)\n",
      "c\n",
      "['a', 'a', 'a', 'a', 'b', 'b', 'b', 'b', 'b', 'c', 'c', 'c', 'c', 'c', 'c', 'c']\n"
     ]
    }
   ],
   "source": [
    "from collections import Counter\n",
    "a = \"aaaabbbbbccccccc\"\n",
    "counter = Counter(a)\n",
    "print(counter)\n",
    "print(counter.items())\n",
    "print(counter.keys())\n",
    "\n",
    "print(counter.most_common(1))\n",
    "\n",
    "#I want to see the most common tuple\n",
    "print(counter.most_common(1)[0])\n",
    "\n",
    "#I want to see the most common element\n",
    "print(counter.most_common(1)[0][0])\n",
    "\n",
    "print(list(counter.elements()))\n"
   ]
  },
  {
   "cell_type": "markdown",
   "metadata": {
    "id": "lvewNRy_uue0"
   },
   "source": [
    "**Namedtuple**"
   ]
  },
  {
   "cell_type": "code",
   "execution_count": 16,
   "metadata": {
    "colab": {
     "base_uri": "https://localhost:8080/"
    },
    "executionInfo": {
     "elapsed": 307,
     "status": "ok",
     "timestamp": 1636562663787,
     "user": {
      "displayName": "Miguel Jimeno",
      "photoUrl": "https://lh3.googleusercontent.com/a-/AOh14Gh8NLv3pNs0YQ3u_eQkmrWM31oFxR8tIizpzPM1RFI=s64",
      "userId": "02153796761643611339"
     },
     "user_tz": 300
    },
    "id": "IHeYHfNqutrU",
    "outputId": "af0bbab1-52f5-49f4-c9b9-9316081c539e"
   },
   "outputs": [
    {
     "name": "stdout",
     "output_type": "stream",
     "text": [
      "1 -4\n"
     ]
    }
   ],
   "source": [
    "from collections import namedtuple\n",
    "\n",
    "#Second argument is all the elements I want inside the class named Point \n",
    "Point = namedtuple(\"Point\", \"x,y\")\n",
    "pt = Point(1, -4)\n",
    "print(pt.x, pt.y)\n",
    "\n"
   ]
  },
  {
   "cell_type": "markdown",
   "metadata": {
    "id": "Zb4DEyZ7wnqr"
   },
   "source": [
    "**OrderedDict**"
   ]
  },
  {
   "cell_type": "code",
   "execution_count": 17,
   "metadata": {
    "colab": {
     "base_uri": "https://localhost:8080/"
    },
    "executionInfo": {
     "elapsed": 248,
     "status": "ok",
     "timestamp": 1636563115578,
     "user": {
      "displayName": "Miguel Jimeno",
      "photoUrl": "https://lh3.googleusercontent.com/a-/AOh14Gh8NLv3pNs0YQ3u_eQkmrWM31oFxR8tIizpzPM1RFI=s64",
      "userId": "02153796761643611339"
     },
     "user_tz": 300
    },
    "id": "7OoNVwhowixk",
    "outputId": "b34326de-550d-46d8-9ac1-3090e8326d3b"
   },
   "outputs": [
    {
     "name": "stdout",
     "output_type": "stream",
     "text": [
      "OrderedDict([('a', 1), ('b', 2), ('c', 3), ('d', 4)])\n"
     ]
    }
   ],
   "source": [
    "from collections import OrderedDict\n",
    "ordDic = OrderedDict()\n",
    "ordDic['a'] = 1\n",
    "ordDic['b'] = 2\n",
    "ordDic['c'] = 3\n",
    "ordDic['d'] = 4\n",
    "print(ordDic)\n"
   ]
  },
  {
   "cell_type": "markdown",
   "metadata": {},
   "source": [
    "Deque"
   ]
  },
  {
   "cell_type": "code",
   "execution_count": null,
   "metadata": {},
   "outputs": [],
   "source": [
    "from collections import deque\n",
    "\n",
    "dq = deque([10, 20, 30])\n",
    "\n",
    "# Add elements to the right\n",
    "dq.append(40)  \n",
    "\n",
    "# Add elements to the left\n",
    "dq.appendleft(5)  \n",
    "\n",
    "# extend(iterable)\n",
    "dq.extend([50, 60, 70]) \n",
    "print(\"After extend([50, 60, 70]):\", dq)\n",
    "\n",
    "# extendleft(iterable)\n",
    "dq.extendleft([0, 5])  \n",
    "print(\"After extendleft([0, 5]):\", dq)\n",
    "\n",
    "# remove method\n",
    "dq.remove(20)\n",
    "print(\"After remove(20):\", dq)\n",
    "\n",
    "# Remove elements from the right\n",
    "dq.pop()\n",
    "\n",
    "# Remove elements from the left\n",
    "dq.popleft()  \n",
    "\n",
    "print(\"After pop and popleft:\", dq)\n",
    "\n",
    "# clear() - Removes all elements from the deque\n",
    "dq.clear()  # deque: []\n",
    "print(\"After clear():\", dq)"
   ]
  }
 ],
 "metadata": {
  "colab": {
   "authorship_tag": "ABX9TyMpnzSqGZlqeSpk5I1Zb30X",
   "name": "Collections Tutorial.ipynb",
   "provenance": []
  },
  "kernelspec": {
   "display_name": "Python 3",
   "name": "python3"
  },
  "language_info": {
   "name": "python"
  }
 },
 "nbformat": 4,
 "nbformat_minor": 0
}
